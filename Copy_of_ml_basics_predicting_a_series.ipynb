{
  "cells": [
    {
      "cell_type": "markdown",
      "metadata": {
        "id": "view-in-github",
        "colab_type": "text"
      },
      "source": [
        "<a href=\"https://colab.research.google.com/github/nealtheseal108/imitation/blob/main/Copy_of_ml_basics_predicting_a_series.ipynb\" target=\"_parent\"><img src=\"https://colab.research.google.com/assets/colab-badge.svg\" alt=\"Open In Colab\"/></a>"
      ]
    },
    {
      "cell_type": "markdown",
      "metadata": {
        "id": "7V6Dvg5Vkf4V"
      },
      "source": [
        "\n",
        "First 100 terms of Fibonacci series are :- 0 1 1 2 3 5 8 13 21 34 55 89 144 233 377 610 987 1597 2584 4181 6765 10946 17711 28657 46368 75025 121393 196418 317811 514229 832040 1346269 2178309 3524578 5702887 9227465 14930352 24157817 39088169 63245986 102334155 165580141 267914296 433494437 701408733 1134903170\n",
        "\n"
      ]
    },
    {
      "cell_type": "code",
      "execution_count": 5,
      "metadata": {
        "id": "e4scUONF4y8X",
        "colab": {
          "base_uri": "https://localhost:8080/"
        },
        "outputId": "17076c05-ed5f-4d35-ecaa-c67801a33be8"
      },
      "outputs": [
        {
          "output_type": "stream",
          "name": "stdout",
          "text": [
            "[         0          1          1          2          3          5\n",
            "          8         13         21         34         55         89\n",
            "        144        233        377        610        987       1597\n",
            "       2584       4181       6765      10946      17711      28657\n",
            "      46368      75025     121393     196418     317811     514229\n",
            "     832040    1346269    2178309    3524578    5702887    9227465\n",
            "   14930352   24157817   39088169   63245986  102334155  165580141\n",
            "  267914296  433494437  701408733 1134903170 1836311903 2971215073\n",
            " 4807526976 7778742049]\n"
          ]
        }
      ],
      "source": [
        "import numpy as np\n",
        "\n",
        "def fibonacci_series():\n",
        "  fib = np.array([0,1]) # 'fib' is initialized as an array with the values 0 and 1\n",
        "  for x in range (2, 50):\n",
        "    fib = np.append(fib,fib[x - 2] + fib[x - 1]) # after iterating through the array, and appending the sum of the right-most two elements to the array\n",
        "  return fib\n",
        "fib = fibonacci_series()\n",
        "print(fib)"
      ]
    },
    {
      "cell_type": "code",
      "source": [
        "X_train = fib[0:30].reshape(30, 1) # x-train is the first 30 elements of fib each in an array, creating a 2D array\n",
        "y_train = fib[1:31].reshape(30, 1) # y-train is the elements from index 1 to index 30 in a 2D array\n",
        "X_test = fib[29:49].reshape(20, 1) # x-train is the elements from index 29 to index 48 in a 2D array\n",
        "y_test = fib[30:50].reshape(20, 1) # y-test- is the last 20 elements of fib each in an array, creating a 2D array\n",
        "\n",
        "print(X_train)\n",
        "print()\n",
        "print(y_train)\n",
        "print()\n",
        "print(X_test)\n",
        "print()\n",
        "print(y_test)"
      ],
      "metadata": {
        "id": "4VahaZcOm_Br",
        "colab": {
          "base_uri": "https://localhost:8080/"
        },
        "outputId": "b522467f-03de-4297-a058-7a114772e100"
      },
      "execution_count": 17,
      "outputs": [
        {
          "output_type": "stream",
          "name": "stdout",
          "text": [
            "[[     0]\n",
            " [     1]\n",
            " [     1]\n",
            " [     2]\n",
            " [     3]\n",
            " [     5]\n",
            " [     8]\n",
            " [    13]\n",
            " [    21]\n",
            " [    34]\n",
            " [    55]\n",
            " [    89]\n",
            " [   144]\n",
            " [   233]\n",
            " [   377]\n",
            " [   610]\n",
            " [   987]\n",
            " [  1597]\n",
            " [  2584]\n",
            " [  4181]\n",
            " [  6765]\n",
            " [ 10946]\n",
            " [ 17711]\n",
            " [ 28657]\n",
            " [ 46368]\n",
            " [ 75025]\n",
            " [121393]\n",
            " [196418]\n",
            " [317811]\n",
            " [514229]]\n",
            "\n",
            "[[     1]\n",
            " [     1]\n",
            " [     2]\n",
            " [     3]\n",
            " [     5]\n",
            " [     8]\n",
            " [    13]\n",
            " [    21]\n",
            " [    34]\n",
            " [    55]\n",
            " [    89]\n",
            " [   144]\n",
            " [   233]\n",
            " [   377]\n",
            " [   610]\n",
            " [   987]\n",
            " [  1597]\n",
            " [  2584]\n",
            " [  4181]\n",
            " [  6765]\n",
            " [ 10946]\n",
            " [ 17711]\n",
            " [ 28657]\n",
            " [ 46368]\n",
            " [ 75025]\n",
            " [121393]\n",
            " [196418]\n",
            " [317811]\n",
            " [514229]\n",
            " [832040]]\n",
            "\n",
            "[[    514229]\n",
            " [    832040]\n",
            " [   1346269]\n",
            " [   2178309]\n",
            " [   3524578]\n",
            " [   5702887]\n",
            " [   9227465]\n",
            " [  14930352]\n",
            " [  24157817]\n",
            " [  39088169]\n",
            " [  63245986]\n",
            " [ 102334155]\n",
            " [ 165580141]\n",
            " [ 267914296]\n",
            " [ 433494437]\n",
            " [ 701408733]\n",
            " [1134903170]\n",
            " [1836311903]\n",
            " [2971215073]\n",
            " [4807526976]]\n",
            "\n",
            "[[    832040]\n",
            " [   1346269]\n",
            " [   2178309]\n",
            " [   3524578]\n",
            " [   5702887]\n",
            " [   9227465]\n",
            " [  14930352]\n",
            " [  24157817]\n",
            " [  39088169]\n",
            " [  63245986]\n",
            " [ 102334155]\n",
            " [ 165580141]\n",
            " [ 267914296]\n",
            " [ 433494437]\n",
            " [ 701408733]\n",
            " [1134903170]\n",
            " [1836311903]\n",
            " [2971215073]\n",
            " [4807526976]\n",
            " [7778742049]]\n"
          ]
        }
      ]
    },
    {
      "cell_type": "code",
      "source": [
        "#train\n",
        "from sklearn.linear_model import LinearRegression # imports a linear regression class (in terms of general computer programming)\n",
        "trainer = LinearRegression() # instantiates the LinearRegression model\n",
        "trainer.fit(X_train,y_train) # trains the model on x_train (input) and y_train (output) data to create a LinReg equation with the correct coefficients for the input and output data; in essence, the rules for further predictions based on realtionships in the data\n",
        "# training steps include data prep/input of input and corresponding target samples, model initialization, model training (where data is passed in to LinReg model and adjusts its internal parameters/coefficients to create best-fit), optimization to minimize errors and meet a certain convergence criterion, and inference\n",
        "print(trainer.score(X_test,y_test)) # r^2, or the coefficient of determination is utilized to evaluate the degree to which the best-fit line is accurate\n",
        "print(trainer.predict([[55]])) # in accordance, the model predicts the number following 55"
      ],
      "metadata": {
        "colab": {
          "base_uri": "https://localhost:8080/"
        },
        "id": "1Uhc1FXxrwck",
        "outputId": "00c8ea2c-a6dd-4e3c-f2c3-66cf48c6d71b"
      },
      "execution_count": 15,
      "outputs": [
        {
          "output_type": "stream",
          "name": "stdout",
          "text": [
            "0.9999999999999972\n",
            "[[89.01585364]]\n"
          ]
        }
      ]
    },
    {
      "cell_type": "code",
      "source": [
        "#plot\n",
        "import matplotlib.pyplot as plt\n",
        "plt.plot(np.arange(30, 50, 1), trainer.predict(X_test)) # plots a 1D array of numbers from 30 to 49 on x-axis, and utilizes the input data of the 'X_test' 2D array to predict y-values (fibonacci sequences) utilizing the best-fit line"
      ],
      "metadata": {
        "colab": {
          "base_uri": "https://localhost:8080/",
          "height": 462
        },
        "id": "rC18qO8kruGm",
        "outputId": "1f8113fe-bd90-4817-8e0b-9cf4c388e14b"
      },
      "execution_count": 21,
      "outputs": [
        {
          "output_type": "execute_result",
          "data": {
            "text/plain": [
              "[<matplotlib.lines.Line2D at 0x7cad18e64340>]"
            ]
          },
          "metadata": {},
          "execution_count": 21
        },
        {
          "output_type": "display_data",
          "data": {
            "text/plain": [
              "<Figure size 640x480 with 1 Axes>"
            ],
            "image/png": "[encoded data removed]"
          },
          "metadata": {}
        }
      ]
    },
    {
      "cell_type": "code",
      "source": [
        "plt.plot(np.arange(30, 50,1), fib[30:50]) # actual fib sequence"
      ],
      "metadata": {
        "colab": {
          "base_uri": "https://localhost:8080/",
          "height": 462
        },
        "id": "7WIzVxqrXCv8",
        "outputId": "acefb8ae-ac90-445f-891e-4dc97163a521"
      },
      "execution_count": 22,
      "outputs": [
        {
          "output_type": "execute_result",
          "data": {
            "text/plain": [
              "[<matplotlib.lines.Line2D at 0x7cad18ce8e20>]"
            ]
          },
          "metadata": {},
          "execution_count": 22
        },
        {
          "output_type": "display_data",
          "data": {
            "text/plain": [
              "<Figure size 640x480 with 1 Axes>"
            ],
            "image/png": "[encoded data removed]"
          },
          "metadata": {}
        }
      ]
    },
    {
      "cell_type": "code",
      "execution_count": 24,
      "metadata": {
        "id": "zdDPP3VInH2_",
        "colab": {
          "base_uri": "https://localhost:8080/"
        },
        "outputId": "8598d7c8-2f52-4e2e-96af-dfbb072a8cac"
      },
      "outputs": [
        {
          "output_type": "stream",
          "name": "stdout",
          "text": [
            "433494417\n"
          ]
        }
      ],
      "source": [
        "num = trainer.predict([[267914296]]) # predicts following fib number\n",
        "print(round(num[0,0])) # rounds and outputs the value at [0, 0] for num, as 'trainer.predict()' outputs a 2D array"
      ]
    }
  ],
  "metadata": {
    "colab": {
      "provenance": [],
      "include_colab_link": true
    },
    "kernelspec": {
      "display_name": "Python 3",
      "name": "python3"
    },
    "language_info": {
      "name": "python"
    }
  },
  "nbformat": 4,
  "nbformat_minor": 0
}