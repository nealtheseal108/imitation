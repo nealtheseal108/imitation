{
  "cells": [
    {
      "cell_type": "markdown",
      "metadata": {
        "id": "view-in-github",
        "colab_type": "text"
      },
      "source": [
        "<a href=\"https://colab.research.google.com/github/nealtheseal108/imitation/blob/main/Copy_of_ml_basics_predicting_a_series.ipynb\" target=\"_parent\"><img src=\"https://colab.research.google.com/assets/colab-badge.svg\" alt=\"Open In Colab\"/></a>"
      ]
    },
    {
      "cell_type": "markdown",
      "metadata": {
        "id": "7V6Dvg5Vkf4V"
      },
      "source": [
        "\n",
        "First 100 terms of Fibonacci series are :- 0 1 1 2 3 5 8 13 21 34 55 89 144 233 377 610 987 1597 2584 4181 6765 10946 17711 28657 46368 75025 121393 196418 317811 514229 832040 1346269 2178309 3524578 5702887 9227465 14930352 24157817 39088169 63245986 102334155 165580141 267914296 433494437 701408733 1134903170\n",
        "\n"
      ]
    },
    {
      "cell_type": "code",
      "execution_count": null,
      "metadata": {
        "id": "e4scUONF4y8X"
      },
      "outputs": [],
      "source": [
        "import numpy as np\n",
        "\n",
        "def fibonacci_series():\n",
        "  fib = np.array([0,1]) # 'fib' is initialized as an array with the values 1 and 1\n",
        "    for x in range (0, 49):\n",
        "    fib = np.append(fib,fib[x] + fib[x+1]) # after iterating through the array, and appending the sum of the right-most two elements to the array\n",
        "  return fib\n",
        "\n",
        "fib = fibanocci_series()"
      ]
    },
    {
      "cell_type": "code",
      "source": [
        "X_train = fib[0:30].reshape(30,1) # x-train is the first 30 elements of fib each in an array, creating a 2D array\n",
        "y_train = fib[1:31].reshape(30,1) # y-train is the elements from index 1 to index 30 in a 2D array\n",
        "X_test = fib[30:50].reshape(20,1) # x-train is the elements from index 30 to index 49 in a 2D array\n",
        "y_test = fib[31:51].reshape(20,1) # x-train is the last 20 elements of fib each in an array, creating a 2D array"
      ],
      "metadata": {
        "id": "4VahaZcOm_Br"
      },
      "execution_count": null,
      "outputs": []
    },
    {
      "cell_type": "code",
      "source": [
        "#train\n",
        "from sklearn.linear_model import LinearRegression # imports a linear regression class (in terms of general computer programming)\n",
        "trainer = LinearRegression() # instantiates the LinearRegression model\n",
        "trainer.fit(X_train,y_train) # trains the model on x_train (input) and y_train (output) data to create a LinReg equation with the correct coefficients for the input and output data; in essence, the rules for further predictions based on realtionships in the data\n",
        "print(trainer.score(X_test,y_test))\n",
        "print(trainer.predict([[55]]))"
      ],
      "metadata": {
        "colab": {
          "base_uri": "https://localhost:8080/"
        },
        "id": "1Uhc1FXxrwck",
        "outputId": "31d59b94-ae82-403c-ae4c-e2229eeff23d"
      },
      "execution_count": null,
      "outputs": [
        {
          "output_type": "stream",
          "name": "stdout",
          "text": [
            "0.9999999999999972\n",
            "[[89.01585364]]\n"
          ]
        }
      ]
    },
    {
      "cell_type": "code",
      "source": [
        "#plot\n",
        "import matplotlib.pyplot as plt\n",
        "plt.plot(np.arange(31, 51,1),trainer.predict(X_test))\n",
        "plt.plot(np.arange(31, 51,1),fib[31:51])"
      ],
      "metadata": {
        "colab": {
          "base_uri": "https://localhost:8080/",
          "height": 462
        },
        "id": "rC18qO8kruGm",
        "outputId": "dbba5b24-6a52-4542-bd0f-19c76dd6c38e"
      },
      "execution_count": null,
      "outputs": [
        {
          "output_type": "execute_result",
          "data": {
            "text/plain": [
              "[<matplotlib.lines.Line2D at 0x788af7715330>]"
            ]
          },
          "metadata": {},
          "execution_count": 4
        },
        {
          "output_type": "display_data",
          "data": {
            "text/plain": [
              "<Figure size 640x480 with 1 Axes>"
            ],
            "image/png": "[encoded data removed]"
          },
          "metadata": {}
        }
      ]
    },
    {
      "cell_type": "code",
      "execution_count": null,
      "metadata": {
        "id": "zdDPP3VInH2_",
        "colab": {
          "base_uri": "https://localhost:8080/"
        },
        "outputId": "7d6cdfb8-f10f-400a-e2e3-ce4553ac7818"
      },
      "outputs": [
        {
          "output_type": "stream",
          "name": "stdout",
          "text": [
            "433494417\n"
          ]
        }
      ],
      "source": [
        "num = trainer.predict([[267914296]])\n",
        "print(round(num[0,0]))"
      ]
    },
    {
      "cell_type": "code",
      "source": [
        "267914296 433494437 701408733 1134903170"
      ],
      "metadata": {
        "id": "7I-2IGhOXrNb"
      },
      "execution_count": null,
      "outputs": []
    }
  ],
  "metadata": {
    "colab": {
      "provenance": [],
      "include_colab_link": true
    },
    "kernelspec": {
      "display_name": "Python 3",
      "name": "python3"
    },
    "language_info": {
      "name": "python"
    }
  },
  "nbformat": 4,
  "nbformat_minor": 0
}